{
 "cells": [
  {
   "cell_type": "code",
   "execution_count": 76,
   "metadata": {},
   "outputs": [],
   "source": [
    "import numpy as np\n",
    "import jax\n",
    "import jax.numpy as jnp\n",
    "from jax import jit, value_and_grad\n",
    "from utilfuncs  import computeFilter, implicit_Ke, implicit_Ae, stiffindex4AK\n",
    "import matplotlib.pyplot as plt"
   ]
  },
  {
   "cell_type": "code",
   "execution_count": 77,
   "metadata": {},
   "outputs": [],
   "source": [
    "# INITIALIZATION\n",
    "\n",
    "nelx, nely = 15, 6\n",
    "nel = nelx*nely;\n",
    "ndof = (nelx+1)*(nely+1)*2;\n",
    "filterRadius = 3\n",
    "H, Hs = computeFilter(nelx,nely,filterRadius)"
   ]
  },
  {
   "cell_type": "code",
   "execution_count": 78,
   "metadata": {},
   "outputs": [],
   "source": [
    "# DESIGN TARGET DEFORMATION\n",
    "\n",
    "#case1: the upper u_x =0 ; u_y is with a parabolic distribution\n",
    "ut_obj= jnp.zeros((ndof,));\n",
    "# upper bounary deformation  freedom\n",
    "node_upper = jnp.arange(1,(nely+1)*nelx+1,nelx+1);\n",
    "dof_upper = jnp.concatenate((node_upper*2-1,node_upper*2),axis=0)-1;\n",
    "dof_upper_uy = dof_upper[1::2];\n",
    "value_upper_uy = jnp.linspace(0,0.1,nely+1)**2;\n",
    "ut_obj = ut_obj.at[dof_upper_uy].set(value_upper_uy);# target deformation freedom, with deformation at non-interested freedom set to zero\n",
    "index_u_t = jnp.zeros((ndof,));\n",
    "index_u_t = index_u_t.at[dof_upper_uy].set(1);# identity matrix of size (node*2,1) with 1 in the target deformation freedom; \n"
   ]
  },
  {
   "cell_type": "code",
   "execution_count": 79,
   "metadata": {},
   "outputs": [],
   "source": [
    "# %% FEM SETUP AND SOLVE\n",
    "\n",
    "# MATERIAL \n",
    "alpha = jnp.ones(((nelx)*(nely),1)); # design variable\n",
    "alpha = jnp.maximum(jnp.minimum(alpha, 1.), 0.) # filter smoothing the design variable\n",
    "E = 2; # constant Young's modulus field(not design variable at this moment)\n",
    "nu = 0.1; # constant Poisson's ratio field(not design variable at this moment)\n",
    "# Ca = jnp.zeros((9,1));\n",
    "Ca  =  (E/(1-nu**2))* jnp.array([[1,nu,0],[nu,1,0],[0,0,(1-nu)/2]]).reshape(-1,order='F');\n",
    "da = Ca.reshape(3,3,order='F') @jnp.array([1,1,0]).reshape(-1,1)\n",
    "# dalpha = jnp.dot(jnp.power(alpha,self.q),da.T).T # power order interpolation\n",
    "da_ = jnp.dot(alpha.reshape(-1,1),da.T).T; # linear interpolation\n",
    "Ca_ = jnp.dot(jnp.ones((nel,1)),Ca.reshape(1,-1,order='F')).T # power order interpolation\n",
    "sA = implicit_Ae(da_); # element area matrix\n",
    "sK = implicit_Ke(Ca_); # element stiffness matrix\n",
    "\n",
    "# ASSEMBEL STIFFNESS MATRIX\n",
    "A = jnp.zeros((ndof,(nelx+1)*(nely+1)));\n",
    "K = jnp.zeros((ndof,ndof));\n",
    "iK, jK, iA,jA = stiffindex4AK(nelx,nely)\n",
    "A = A.at[(iA,jA)].add(sA.flatten('F'))  ; \n",
    "K = K.at[(iK,jK)].add(sK.flatten('F')); # global stiffness matrix\n",
    "\n",
    "# DEFINE LOADS AND SUPPORTS (HALF MBB-BEAM)\n",
    "u = jnp.zeros((ndof,1)); # deformation field\n",
    "theta = jnp.ones(((nelx+1)*(nely+1),1)); # temperater loading\n",
    "\n",
    "fix_left = jnp.arange(0,(nely+1)*2,2); # left boundary\n",
    "fix_right = jnp.arange((nely+1)*2-1,(nely+1)*2*(nelx+1),2); # right boundary\n",
    "dof_fix = jnp.concatenate((fix_left,fix_right),axis=0); # fixed left and right boundary\n",
    "dof_free = jnp.setdiff1d(jnp.arange(0,ndof),dof_fix); # free freedom\n",
    "\n",
    "# SOLVE \n",
    "Kr = K[dof_free,:][:,dof_free]; # reduced stiffness matrix\n",
    "\n",
    "\n",
    "f_t = A@theta # equivalent nodal force vector\n",
    "f_r = f_t[dof_free]; # reduced equivalent nodal force vector\n",
    "u_t = jnp.linalg.solve(Kr,f_r); # reduced deformation vector\n",
    "u = u.at[dof_free].set(u_t); # deformation vector\n"
   ]
  },
  {
   "cell_type": "code",
   "execution_count": 82,
   "metadata": {},
   "outputs": [
    {
     "data": {
      "text/plain": [
       "Array(73350.055, dtype=float32)"
      ]
     },
     "execution_count": 82,
     "metadata": {},
     "output_type": "execute_result"
    }
   ],
   "source": [
    "# %% OBJECTIVE FUNCTION AND SENSITIVITY ANALYSIS\n",
    "# objective function: \\sum(|u*index_u_t - ut_obj|**2)\n",
    "obj = jnp.sum(jnp.power((u*index_u_t - ut_obj),2));\n",
    "# sensitivity analysis of the objective function 'obj' to the design variable  'alpha'\n",
    "obj "
   ]
  },
  {
   "cell_type": "code",
   "execution_count": 89,
   "metadata": {},
   "outputs": [
    {
     "name": "stdout",
     "output_type": "stream",
     "text": [
      "y = [1.55481   1.8918884]\n",
      "a = [0.84147096 0.9092974  0.14112   ]\n",
      "grad_x = (Array([[ 0.90929735, -0.7568025 , -0.2794155 ],\n",
      "       [ 0.5403023 , -0.41614684, -0.9899925 ]], dtype=float32), Array([[ 0.5403023 , -0.        , -0.        ],\n",
      "       [ 0.        , -0.41614684, -0.        ],\n",
      "       [ 0.        , -0.        , -0.9899925 ]], dtype=float32))\n",
      "grad_a = [[ 0.5403023  -0.         -0.        ]\n",
      " [ 0.         -0.41614684 -0.        ]\n",
      " [ 0.         -0.         -0.9899925 ]]\n"
     ]
    }
   ],
   "source": [
    "import jax\n",
    "import jax.numpy as jnp\n",
    "\n",
    "def my_function(x):\n",
    "    a = jnp.sin(x)\n",
    "    y = jnp.stack([jnp.sum(a ** 2), jnp.sum(a)])\n",
    "    return y, a\n",
    "\n",
    "x = jnp.array([1., 2., 3.])\n",
    "y, a = my_function(x)\n",
    "\n",
    "# Compute Jacobian with respect to x\n",
    "jacobian_fn = jax.jacobian(my_function, argnums=0)\n",
    "grad_x = jacobian_fn(x)\n",
    "\n",
    "# Compute Jacobian with respect to a\n",
    "grad_a = jacobian_fn(x)[1]\n",
    "\n",
    "print(\"y =\", y)\n",
    "print(\"a =\", a)\n",
    "print(\"grad_x =\", grad_x)\n",
    "print(\"grad_a =\", grad_a)\n"
   ]
  },
  {
   "cell_type": "code",
   "execution_count": null,
   "metadata": {},
   "outputs": [],
   "source": [
    "# OBTAIN TARGET DEFORAMTION AND OBJECTIVE FUNCTION\n",
    "\n",
    "u.shape\n",
    "# theta.shape"
   ]
  },
  {
   "cell_type": "code",
   "execution_count": null,
   "metadata": {},
   "outputs": [],
   "source": [
    "# ASSEMBLE STIFFNESS MATRICIES K AND THERMAL STRESS MATRIX A"
   ]
  },
  {
   "cell_type": "code",
   "execution_count": null,
   "metadata": {},
   "outputs": [],
   "source": [
    "# SOLVE THE LINEAR SYSTEM Ku = f\n",
    "u_solve = jnp.linalg.solve(K,f)"
   ]
  },
  {
   "cell_type": "code",
   "execution_count": null,
   "metadata": {},
   "outputs": [],
   "source": [
    "# OBJECTIVE FUNCTION\n",
    "obj =  jnp.sum(((u_solve- ut_obj)*index_u_t)**2)\n",
    "# OPTIMIZATION"
   ]
  }
 ],
 "metadata": {
  "kernelspec": {
   "display_name": "grad_top_jax",
   "language": "python",
   "name": "python3"
  },
  "language_info": {
   "codemirror_mode": {
    "name": "ipython",
    "version": 3
   },
   "file_extension": ".py",
   "mimetype": "text/x-python",
   "name": "python",
   "nbconvert_exporter": "python",
   "pygments_lexer": "ipython3",
   "version": "3.10.9"
  },
  "orig_nbformat": 4
 },
 "nbformat": 4,
 "nbformat_minor": 2
}
